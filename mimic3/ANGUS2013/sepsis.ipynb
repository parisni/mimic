{
 "cells": [
  {
   "cell_type": "code",
   "execution_count": 18,
   "metadata": {
    "collapsed": true
   },
   "outputs": [],
   "source": [
    "import psycopg2\n",
    "import sys\n",
    "import pprint\n",
    "import pandas\n",
    "import random"
   ]
  },
  {
   "cell_type": "code",
   "execution_count": 19,
   "metadata": {
    "collapsed": true
   },
   "outputs": [],
   "source": [
    "def connect():\n",
    "    \"return a connection\"\n",
    "    conn_string = \"host='localhost' dbname='mimic' user='postgres'\"\n",
    "    conn = psycopg2.connect(conn_string)\n",
    "    return conn\n",
    "    \n",
    "def disconnect(conn):\n",
    "    \"disconnect\"\n",
    "    conn.commit()\n",
    "    conn.close()\n",
    "\n",
    "def get_data( query, itersize=10000):\n",
    "    \"return a pandas dataframe with columns names\"\n",
    "    conn = connect()\n",
    "    cur = conn.cursor(f'tmpCursor')\n",
    "    cur.itersize = itersize\n",
    "    cur.execute(query)\n",
    "    pd = pandas.DataFrame(cur.fetchall(),columns= [desc[0] for desc in cur.description])\n",
    "    cur.close()\n",
    "    disconnect(conn)\n",
    "    return pd\n",
    "\n",
    "def inStmt(col):\n",
    "    \"generates list\"\n",
    "    return ','.join(col.map(str))"
   ]
  },
  {
   "cell_type": "code",
   "execution_count": 430,
   "metadata": {},
   "outputs": [
    {
     "data": {
      "text/plain": [
       "17072"
      ]
     },
     "execution_count": 430,
     "metadata": {},
     "output_type": "execute_result"
    }
   ],
   "source": [
    "#TEST IF JEROME CODES ARE OK\n",
    "import re\n",
    "f = open('infect_icd9_jab.txt')\n",
    "inf = f.read()\n",
    "inf = list(filter(len,re.split(\"\\s+|\\n\", inf)))\n",
    "inf = [x for x in inf if len(x) != 3]\n",
    "#inf = list(filter(len,re.split(\"\\s+|\\n\", inf)))\n",
    "pred = \"'),('\".join(inf)\n",
    "#get_data(f\"WITH inf as (SELECT column1 as cd FROM (VALUES ('{pred}')) as tmp)\\\n",
    "#         SELECT count(1) FROM inf WHERE cd NOT IN (SELECT icd9_code FROM mimiciii.diagnoses_icd) \")\n",
    "get_data(f\"WITH inf as (SELECT column1 as cd FROM (VALUES ('{pred}')) as tmp)\\\n",
    "           SELECT count(distinct hadm_id) \\\n",
    "           FROM mimiciii.diagnoses_icd \\\n",
    "           WHERE icd9_code IN (SELECT * FROM inf)\")\n",
    "pred = \"','\".join(list(set(inf)))\n",
    "a =(f\"SELECT DISTINCT subject_id, hadm_id \\\n",
    "FROM mimiciii.diagnoses_icd \\\n",
    "WHERE icd9_code IN ('{pred}')\")\n",
    "f1=open('jero_icd9.sql', 'w+')\n",
    "f1.write(a)\n"
   ]
  },
  {
   "cell_type": "code",
   "execution_count": 127,
   "metadata": {
    "collapsed": true
   },
   "outputs": [],
   "source": [
    "#ANGUS: only codes\n",
    "# +  le meme jour toutes ces choses là:\n",
    "# prélevement bacterio    => prelevement réalisé (liste dans sepsis 3)\n",
    "# antibiotique => ()\n",
    "# remplissage => (liste à définir) eau administrée\n",
    "\n",
    "#ANGUS appendix\n",
    "import re\n",
    "f = open('angus_appendix1.txt')\n",
    "inf = f.read()\n",
    "inf = list(filter(len,re.split(\"\\s+|\\n\", inf)))\n",
    "app1 = list()\n",
    "for i in set(inf):\n",
    "    if re.match(\".*\\d+.*,$\",i):\n",
    "        app1.append(i[:-1])\n",
    "app1 = \"|^\".join(app1)\n",
    "f = open('angus_appendix2.txt')\n",
    "inf = f.read()\n",
    "app2 = list(filter(len,re.split(\"\\s+|\\n\", inf)))\n",
    "app2 = \"|^\".join(app2)\n",
    "\n",
    "angus = \\\n",
    "f'''\n",
    "SELECT distinct hadm_id \n",
    "FROM \n",
    "(\n",
    "SELECT distinct hadm_id \n",
    "FROM mimiciii.diagnoses_icd \n",
    "WHERE icd9_code ~ '^{app1}'\n",
    "INTERSECT\n",
    "SELECT distinct hadm_id\n",
    "FROM mimiciii.diagnoses_icd\n",
    "WHERE icd9_code ~ '^{app2}'\n",
    ") as tmp\n",
    "'''\n",
    "    \n",
    "f1=open('jero_angus.sql', 'w+')\n",
    "f1.write(angus)\n",
    "f1.close()\n"
   ]
  },
  {
   "cell_type": "code",
   "execution_count": 11,
   "metadata": {
    "collapsed": true
   },
   "outputs": [],
   "source": [
    "angus = get_data('SELECT distinct hadm_id FROM sepsis.sepsis_angus')\n",
    "angus = set(angus['hadm_id']) "
   ]
  },
  {
   "cell_type": "code",
   "execution_count": 129,
   "metadata": {
    "collapsed": true
   },
   "outputs": [],
   "source": [
    "# ACCP_SEVERE: \n",
    "# 1) dans infection icd9\n",
    "# dans une fenetre de 24h :\n",
    "# 2.a) 2 critères dans chap general et inflamatory\n",
    "# 2.b) 1 dans Soit organ disf SOIT tissue hypo SOIT émodynamique variable\n",
    "## SEPSIS TOUT COURT: 2 crit dans general et inflamatory\n",
    "accp = get_data('SELECT distinct hadm_id FROM sepsis.accp_deliberation WHERE type = 2')          \n",
    "accp_severe = set(accp['hadm_id'])"
   ]
  },
  {
   "cell_type": "code",
   "execution_count": 9,
   "metadata": {
    "collapsed": true
   },
   "outputs": [],
   "source": [
    "#ACCP_SIMPLE\n",
    "# 1) dans infection icd9\n",
    "# dans une fenetre de 24h :\n",
    "# 2.) 2 critères dans chap general et inflamatory\n",
    "\n",
    "sepsis_simple = get_data('SELECT distinct hadm_id FROM sepsis.accp_deliberation WHERE type = 1')          \n",
    "accp_simple = set(sepsis_simple['hadm_id'])"
   ]
  },
  {
   "cell_type": "code",
   "execution_count": 12,
   "metadata": {
    "collapsed": true
   },
   "outputs": [],
   "source": [
    "#ACCP_SHOCK\n",
    "# 1) dans infection icd9\n",
    "# dans une fenetre de 24h :\n",
    "# 2.) 2 critères dans chap general et inflamatory\n",
    "\n",
    "sepsis_shock = get_data('SELECT distinct hadm_id FROM sepsis.accp_deliberation WHERE type = 3')          \n",
    "accp_shock = set(sepsis_shock['hadm_id'])"
   ]
  },
  {
   "cell_type": "code",
   "execution_count": 14,
   "metadata": {
    "collapsed": true
   },
   "outputs": [],
   "source": [
    "#Sepsis3: \n",
    "# 1) dans infection icd9\n",
    "# 2) sofa >= 2 \n",
    "# 3) si il y a eu des vasopresseurs alors retirer ceux avec lactate >2   (car ils seraient en shock)\n",
    "sofa = \\\n",
    "f'''\n",
    "SELECT distinct hadm_id\n",
    "FROM sepsis.ch0_infection_pop\n",
    "WHERE hadm_id IN (\n",
    "SELECT distinct hadm_id \n",
    "FROM mimiciii.icustays ic\n",
    "LEFT JOIN mimiciii.mp_sofa so USING (icustay_id)\n",
    "WHERE sofa_24hours >= 2 )\n",
    "'''\n",
    "sepsis3 = get_data(sofa)\n",
    "sepsis3 = set(sepsis3['hadm_id'])"
   ]
  },
  {
   "cell_type": "code",
   "execution_count": 15,
   "metadata": {
    "scrolled": false
   },
   "outputs": [
    {
     "data": {
      "text/plain": [
       "<matplotlib.figure.Figure at 0x7f69d35d76a0>"
      ]
     },
     "metadata": {},
     "output_type": "display_data"
    },
    {
     "data": {
      "text/plain": [
       "<matplotlib.figure.Figure at 0x7f69ce8e2320>"
      ]
     },
     "metadata": {},
     "output_type": "display_data"
    },
    {
     "data": {
      "text/plain": [
       "<matplotlib.figure.Figure at 0x7f69ce88ef60>"
      ]
     },
     "metadata": {},
     "output_type": "display_data"
    },
    {
     "data": {
      "image/png": "[encoded data removed]",
      "text/plain": [
       "<matplotlib.figure.Figure at 0x7f69ce89bd30>"
      ]
     },
     "metadata": {},
     "output_type": "display_data"
    }
   ],
   "source": [
    "import pylab as plt\n",
    "from matplotlib_venn import venn3\n",
    "plt.figure(figsize=[16,16])\n",
    "plt.rcParams.update({'font.size': 14})\n",
    "venn3([accp_simple, angus, sepsis3], ('ACCP', 'Angus', 'Sepsis3'),      \n",
    "subset_label_formatter=lambda x: '{:,}\\n{:2.1f}%'.format(x, x*100.0/60000))\n",
    "plt.savefig('sepsis3-venn.png')\n",
    "plt.show()"
   ]
  },
  {
   "cell_type": "code",
   "execution_count": 21,
   "metadata": {},
   "outputs": [
    {
     "data": {
      "text/plain": [
       "Stratified by accp_type\n",
       "                               1                2                3\n",
       "-----------------------------  ---------------  ---------------  ---------------\n",
       "n                              6152             17776            4204\n",
       "age (mean (std))               6.48 (23.72)     76.02 (58.06)    78.49 (56.09)\n",
       "length_admission (mean (std))  253.25 (430.18)  319.21 (318.14)  434.66 (432.79)\n",
       "death_admission (n (%))\n",
       "0                              6122 (99.51)     15976 (89.87)    2512 (59.75)\n",
       "1                              30 (0.49)        1800 (10.13)     1692 (40.25)\n",
       "gender (n (%))\n",
       "F                              2784 (45.25)     8350 (46.97)     1858 (44.20)\n",
       "M                              3368 (54.75)     9426 (53.03)     2346 (55.80)"
      ]
     },
     "execution_count": 21,
     "metadata": {},
     "output_type": "execute_result"
    }
   ],
   "source": [
    "#### from tableone import TableOne\n",
    "data = get_data( \\\n",
    "f'''\n",
    "SELECT \n",
    "a.hadm_id,\n",
    "p.gender, \n",
    "EXTRACT(year FROM age(a.admittime, p.dob)) as age, \n",
    "EXTRACT(epoch FROM a.dischtime - a.admittime)/3600 as length_admission, \n",
    "a.hospital_expire_flag as death_admission,\n",
    "ad.type as accp_type\n",
    "FROM mimiciii.admissions a\n",
    "LEFT JOIN mimiciii.patients p USING (subject_id)\n",
    "INNER JOIN sepsis.accp_deliberation ad USING (hadm_id)\n",
    "'''\n",
    ")\n",
    "data.index.name='id'\n",
    "data.head()\n",
    "\n",
    "strat = 'accp_type'\n",
    "convars = ['age', 'length_admission']\n",
    "\n",
    "# list of columns containing categorical variables\n",
    "catvars = ['death_admission',  'gender']\n",
    "strat_table = TableOne(data, convars, catvars, strat)\n",
    "strat_table"
   ]
  },
  {
   "cell_type": "code",
   "execution_count": null,
   "metadata": {
    "collapsed": true
   },
   "outputs": [],
   "source": [
    "plt.figure(figsize=[16,16])\n",
    "plt.rcParams.update({'font.size': 14})\n",
    "venn3([accp, sepsis_simple, sepsis_shock], ('ACCP', 'sepsis_simple', 'Sepsis Shock'),      \n",
    "subset_label_formatter=lambda x: '{:,}\\n{:2.1f}%'.format(x, x*100.0/60000))\n",
    "plt.savefig('sepsis3-venn.png')\n",
    "plt.show()"
   ]
  },
  {
   "cell_type": "code",
   "execution_count": 81,
   "metadata": {
    "collapsed": true
   },
   "outputs": [],
   "source": [
    "#shock\n",
    "\n",
    "accp2 = \\\n",
    "f'''\n",
    "WITH crit1 AS (SELECT hadm_id FROM ch0_infection_pop), \n",
    "crit2 AS (SELECT distinct hadm_id FROM ch1 ), \n",
    "crit3 AS (SELECT DISTINCT hadm_id FROM (SELECT * FROM crit1 INTERSECT SELECT * FROM crit2 ) as tmp3) \n",
    "SELECT distinct crit3.hadm_id FROM crit3 JOIN ch2 ON (crit3.hadm_id = ch2.hadm_id )\n",
    "'''\n",
    "\n",
    "\n",
    "\n",
    "set3 = set(sepsis3['hadm_id'])"
   ]
  }
 ],
 "metadata": {
  "kernelspec": {
   "display_name": "Python 3",
   "language": "python",
   "name": "python3"
  },
  "language_info": {
   "codemirror_mode": {
    "name": "ipython",
    "version": 3
   },
   "file_extension": ".py",
   "mimetype": "text/x-python",
   "name": "python",
   "nbconvert_exporter": "python",
   "pygments_lexer": "ipython3",
   "version": "3.6.1"
  }
 },
 "nbformat": 4,
 "nbformat_minor": 2
}
