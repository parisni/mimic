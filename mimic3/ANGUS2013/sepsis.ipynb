{
 "cells": [
  {
   "cell_type": "code",
   "execution_count": 29,
   "metadata": {
    "collapsed": true
   },
   "outputs": [],
   "source": [
    "import psycopg2\n",
    "import sys\n",
    "import pprint\n",
    "import pandas\n",
    "import random"
   ]
  },
  {
   "cell_type": "code",
   "execution_count": 30,
   "metadata": {
    "collapsed": true
   },
   "outputs": [],
   "source": [
    "def connect():\n",
    "    \"return a connection\"\n",
    "    conn_string = \"host='localhost' dbname='mimic' user='postgres'\"\n",
    "    conn = psycopg2.connect(conn_string)\n",
    "    return conn\n",
    "    \n",
    "def disconnect(conn):\n",
    "    \"disconnect\"\n",
    "    conn.commit()\n",
    "    conn.close()\n",
    "\n",
    "def get_data( query, itersize=10000):\n",
    "    \"return a pandas dataframe with columns names\"\n",
    "    conn = connect()\n",
    "    cur = conn.cursor(f'tmpCursor')\n",
    "    cur.itersize = itersize\n",
    "    cur.execute(query)\n",
    "    pd = pandas.DataFrame(cur.fetchall(),columns= [desc[0] for desc in cur.description])\n",
    "    cur.close()\n",
    "    disconnect(conn)\n",
    "    return pd\n"
   ]
  },
  {
   "cell_type": "code",
   "execution_count": 69,
   "metadata": {
    "collapsed": true
   },
   "outputs": [],
   "source": []
  },
  {
   "cell_type": "code",
   "execution_count": null,
   "metadata": {},
   "outputs": [],
   "source": [
    "print(get_data(\"select itemid from mimiciii.d_items where lower(label) like '%evophed%' or lower(label) like '%pressin%' or lower(label) like '%ephrin%' \"))"
   ]
  },
  {
   "cell_type": "code",
   "execution_count": 84,
   "metadata": {},
   "outputs": [
    {
     "name": "stdout",
     "output_type": "stream",
     "text": [
      "   table_schema          table_name\n",
      "0      mimiciii    d_icd_procedures\n",
      "1      mimiciii          admissions\n",
      "2      mimiciii             callout\n",
      "3      mimiciii          caregivers\n",
      "4      mimiciii       chartevents_1\n",
      "5      mimiciii       chartevents_2\n",
      "6      mimiciii       chartevents_3\n",
      "7      mimiciii       chartevents_4\n",
      "8      mimiciii       chartevents_5\n",
      "9      mimiciii       chartevents_6\n",
      "10     mimiciii       chartevents_7\n",
      "11     mimiciii       chartevents_8\n",
      "12     mimiciii       chartevents_9\n",
      "13     mimiciii      chartevents_10\n",
      "14     mimiciii      chartevents_11\n",
      "15     mimiciii      chartevents_12\n",
      "16     mimiciii      chartevents_13\n",
      "17     mimiciii      chartevents_14\n",
      "18     mimiciii         chartevents\n",
      "19     mimiciii           cptevents\n",
      "20     mimiciii      datetimeevents\n",
      "21     mimiciii       diagnoses_icd\n",
      "22     mimiciii            drgcodes\n",
      "23     mimiciii               d_cpt\n",
      "24     mimiciii     d_icd_diagnoses\n",
      "25     mimiciii             d_items\n",
      "26     mimiciii          d_labitems\n",
      "27     mimiciii            icustays\n",
      "28     mimiciii      inputevents_cv\n",
      "29     mimiciii      inputevents_mv\n",
      "30     mimiciii           labevents\n",
      "31     mimiciii  microbiologyevents\n",
      "32     mimiciii          noteevents\n",
      "33     mimiciii        outputevents\n",
      "34     mimiciii            patients\n",
      "35     mimiciii       prescriptions\n",
      "36     mimiciii  procedureevents_mv\n",
      "37     mimiciii      procedures_icd\n",
      "38     mimiciii            services\n",
      "39     mimiciii           transfers\n"
     ]
    }
   ],
   "source": [
    " print(get_data(\"SELECT table_schema, table_name FROM information_schema.tables WHERE table_schema IN (  'mimiciii')\"))"
   ]
  },
  {
   "cell_type": "code",
   "execution_count": 83,
   "metadata": {},
   "outputs": [
    {
     "name": "stdout",
     "output_type": "stream",
     "text": [
      "   subject_id  hadm_id\n",
      "0           2   163353\n",
      "1           3   145834\n",
      "2           4   185777\n",
      "3           5   178980\n",
      "4           6   107064\n",
      "5           7   118037\n",
      "6           8   159514\n",
      "7           9   150750\n",
      "8          10   184167\n",
      "9          11   194540\n"
     ]
    }
   ],
   "source": [
    " print(get_data(\"SELECT * FROM sepsis.general_vars LIMIT 10\"))"
   ]
  },
  {
   "cell_type": "code",
   "execution_count": 148,
   "metadata": {},
   "outputs": [
    {
     "name": "stdout",
     "output_type": "stream",
     "text": [
      "    row_id  itemid                                              label  \\\n",
      "0      548     591                                  RLE [Temperature]   \n",
      "1      554     597                                  RUE [Temperature]   \n",
      "2      384     417                                  Inspired Gas Temp   \n",
      "3      391     424                                         LLE [Temp]   \n",
      "4      394     427                                         LUE [Temp]   \n",
      "5      598     645                                 Skin [Temperature]   \n",
      "6      626     674                                         Temp. Site   \n",
      "7      627     676                                      Temperature C   \n",
      "8      628     677                               Temperature C (calc)   \n",
      "9      629     678                                      Temperature F   \n",
      "10     630     679                               Temperature F (calc)   \n",
      "11    1053    3460                               Humidity Temp [Meas]   \n",
      "12    1740    5632                                R BREAST TEMP/COLOR   \n",
      "13    1760    5652                                       PICC Attempt   \n",
      "14    1875    5772                                    FLAP TEMP/COLOR   \n",
      "15    3708    2668                                         TEMP GRAFT   \n",
      "16    3850    2882                                    FLAP COLOR/TEMP   \n",
      "17    2816    3652                                  Temp Axillary [F]   \n",
      "18    2817    3653                                     Temp CoB 1/W/C   \n",
      "19    2818    3654                                    Temp Rectal [F]   \n",
      "20    2819    3655                                      Temp Skin [C]   \n",
      "21    2820    3656                             Temp/Iso/Warmer [Type]   \n",
      "22    4103    6277                                  PICC line attempt   \n",
      "23    4912    8449       Patient controlled analgesia (PCA) [Attempt]   \n",
      "24    5007    8537           Temp/Iso/Warmer [Temperature, degrees C]   \n",
      "25    4298    6643                                        Temp Rectal   \n",
      "26   13042  224027                                   Skin Temperature   \n",
      "27   14731  227054                              TemperatureF_ApacheIV   \n",
      "28   14732  227055                                 TempScore_ApacheIV   \n",
      "29   13867  225571  Number of attempts required to place line (A-L...   \n",
      "..     ...     ...                                                ...   \n",
      "49   13302  224769                                           LUE Temp   \n",
      "50   13303  224771                                           RLE Temp   \n",
      "51   13304  224773                                           LLE Temp   \n",
      "52   14972  227627                         Arctic Sun/Alsius Set Temp   \n",
      "53   14973  227628                              Arctic Sun Water Temp   \n",
      "54   14975  227630                        Arctic Sun Temp #1 Location   \n",
      "55   14976  227631                        Arctic Sun Temp #2 Location   \n",
      "56   14977  227632                        Arctic Sun/Alsius Temp #1 C   \n",
      "57   14978  227634                        Arctic Sun/Alsius Temp #2 C   \n",
      "58   13441  224837              Temporary Ventricular Sens Setting mV   \n",
      "59   13442  224838              Temporary Ventricular Stim Setting mA   \n",
      "60   13443  224839                   Temporary Pacemaker Wires Atrial   \n",
      "61   13462  224866                           Temporary Atrial Capture   \n",
      "62   14305  226011                         Number of attempts (PACEN)   \n",
      "63   13408  224584   Number of attempts required to place line (PICC)   \n",
      "64   13423  224642                                   Temperature Site   \n",
      "65   13436  224663                                        PCA attempt   \n",
      "66   15236  228242                        Pt. Temperature (BG) (SOFT)   \n",
      "67   12737  220194                              Temporary AV interval   \n",
      "68   13631  224834                         Temporary Ventricular Sens   \n",
      "69   13632  224835                      Temporary Ventricular Capture   \n",
      "70   14538  226777                                  TempApacheIIScore   \n",
      "71   14539  226778                                  TempApacheIIValue   \n",
      "72   12816  223872                                 Inspired Gas Temp.   \n",
      "73   14446  226329                          Blood Temperature CCO (C)   \n",
      "74   15271  228074                 Number of attempts to perform (LP)   \n",
      "75   15285  228090                         Number of attempts (THCEN)   \n",
      "76   12757  223761                             Temperature Fahrenheit   \n",
      "77   12758  223762                                Temperature Celsius   \n",
      "78   13684  225306                    Number of Attempts (Intubation)   \n",
      "\n",
      "                                         abbreviation    dbsource  \\\n",
      "0                                                None     carevue   \n",
      "1                                                None     carevue   \n",
      "2                                                None     carevue   \n",
      "3                                                None     carevue   \n",
      "4                                                None     carevue   \n",
      "5                                                None     carevue   \n",
      "6                                                None     carevue   \n",
      "7                                                None     carevue   \n",
      "8                                                None     carevue   \n",
      "9                                                None     carevue   \n",
      "10                                               None     carevue   \n",
      "11                                               None     carevue   \n",
      "12                                               None     carevue   \n",
      "13                                               None     carevue   \n",
      "14                                               None     carevue   \n",
      "15                                               None     carevue   \n",
      "16                                               None     carevue   \n",
      "17                                               None     carevue   \n",
      "18                                               None     carevue   \n",
      "19                                               None     carevue   \n",
      "20                                               None     carevue   \n",
      "21                                               None     carevue   \n",
      "22                                               None     carevue   \n",
      "23                                               None     carevue   \n",
      "24                                               None     carevue   \n",
      "25                                               None     carevue   \n",
      "26                                          Skin Temp  metavision   \n",
      "27                              TemperatureF_ApacheIV  metavision   \n",
      "28                                 TempScore_ApacheIV  metavision   \n",
      "29  Number of attempts required to place line (A-L...  metavision   \n",
      "..                                                ...         ...   \n",
      "49                                           LUE Temp  metavision   \n",
      "50                                           RLE Temp  metavision   \n",
      "51                                           LLE Temp  metavision   \n",
      "52                         Arctic Sun/Alsius Set Temp  metavision   \n",
      "53                              Arctic Sun Water Temp  metavision   \n",
      "54                        Arctic Sun Temp #1 Location  metavision   \n",
      "55                        Arctic Sun Temp #2 Location  metavision   \n",
      "56                        Arctic Sun/Alsius Temp #1 C  metavision   \n",
      "57                        Arctic Sun/Alsius Temp #2 C  metavision   \n",
      "58                   Temp Ventricular Sens Setting mV  metavision   \n",
      "59                   Temp Ventricular Stim Setting mA  metavision   \n",
      "60                        Temp Pacemaker Wires Atrial  metavision   \n",
      "61                                Temp Atrial Capture  metavision   \n",
      "62                         Number of attempts (PACEN)  metavision   \n",
      "63   Number of attempts required to place line (PICC)  metavision   \n",
      "64                                          Temp Site  metavision   \n",
      "65                                        PCA attempt  metavision   \n",
      "66                        Pt. Temperature (BG) (SOFT)  metavision   \n",
      "67                                   Temp AV interval  metavision   \n",
      "68                              Temp Ventricular Sens  metavision   \n",
      "69                           Temp Ventricular Capture  metavision   \n",
      "70                                  TempApacheIIScore  metavision   \n",
      "71                                  TempApacheIIValue  metavision   \n",
      "72                                 Inspired Gas Temp.  metavision   \n",
      "73                                 Blood Temp CCO (C)  metavision   \n",
      "74                 Number of attempts to perform (LP)  metavision   \n",
      "75                         Number of attempts (THCEN)  metavision   \n",
      "76                                      Temperature F  metavision   \n",
      "77                                      Temperature C  metavision   \n",
      "78                    Number of Attempts (Intubation)  metavision   \n",
      "\n",
      "        linksto                     category unitname param_type conceptid  \n",
      "0   chartevents                         None     None       None      None  \n",
      "1   chartevents                         None     None       None      None  \n",
      "2   chartevents                         None     None       None      None  \n",
      "3   chartevents                         None     None       None      None  \n",
      "4   chartevents                         None     None       None      None  \n",
      "5   chartevents                         None     None       None      None  \n",
      "6   chartevents                         None     None       None      None  \n",
      "7   chartevents                         None     None       None      None  \n",
      "8   chartevents                         None     None       None      None  \n",
      "9   chartevents                         None     None       None      None  \n",
      "10  chartevents                         None     None       None      None  \n",
      "11  chartevents                         None     None       None      None  \n",
      "12  chartevents                         None     None       None      None  \n",
      "13  chartevents                         None     None       None      None  \n",
      "14  chartevents                         None     None       None      None  \n",
      "15  chartevents                         None     None       None      None  \n",
      "16  chartevents                         None     None       None      None  \n",
      "17  chartevents                         None     None       None      None  \n",
      "18  chartevents                         None     None       None      None  \n",
      "19  chartevents                         None     None       None      None  \n",
      "20  chartevents                         None     None       None      None  \n",
      "21  chartevents                         None     None       None      None  \n",
      "22  chartevents                         None     None       None      None  \n",
      "23  chartevents                         None     None       None      None  \n",
      "24  chartevents                         None     None       None      None  \n",
      "25  chartevents                         None     None       None      None  \n",
      "26  chartevents            Skin - Assessment     None       Text      None  \n",
      "27  chartevents       Scores - APACHE IV (2)       ?F    Numeric      None  \n",
      "28  chartevents       Scores - APACHE IV (2)     None    Numeric      None  \n",
      "29  chartevents      Arterial Line Insertion     None       Text      None  \n",
      "..          ...                          ...      ...        ...       ...  \n",
      "49  chartevents               Cardiovascular     None       Text      None  \n",
      "50  chartevents               Cardiovascular     None       Text      None  \n",
      "51  chartevents               Cardiovascular     None       Text      None  \n",
      "52  chartevents                   Treatments       ?C    Numeric      None  \n",
      "53  chartevents                   Treatments       ?C    Numeric      None  \n",
      "54  chartevents          Routine Vital Signs     None       Text      None  \n",
      "55  chartevents          Routine Vital Signs     None       Text      None  \n",
      "56  chartevents          Routine Vital Signs       ?C    Numeric      None  \n",
      "57  chartevents          Routine Vital Signs       ?C    Numeric      None  \n",
      "58  chartevents  Cardiovascular (Pacer Data)       mV    Numeric      None  \n",
      "59  chartevents  Cardiovascular (Pacer Data)       mA    Numeric      None  \n",
      "60  chartevents  Cardiovascular (Pacer Data)     None    Numeric      None  \n",
      "61  chartevents  Cardiovascular (Pacer Data)     None       Text      None  \n",
      "62  chartevents                 Paracentesis     None    Numeric      None  \n",
      "63  chartevents          PICC Line Insertion     None       Text      None  \n",
      "64  chartevents          Routine Vital Signs     None       Text      None  \n",
      "65  chartevents                Pain/Sedation     None    Numeric      None  \n",
      "66  chartevents                         Labs     None    Numeric      None  \n",
      "67  chartevents  Cardiovascular (Pacer Data)     msec    Numeric      None  \n",
      "68  chartevents  Cardiovascular (Pacer Data)     None       Text      None  \n",
      "69  chartevents  Cardiovascular (Pacer Data)     None       Text      None  \n",
      "70  chartevents           Scores - APACHE II     None    Numeric      None  \n",
      "71  chartevents           Scores - APACHE II       ?F    Numeric      None  \n",
      "72  chartevents                  Respiratory       ?C    Numeric      None  \n",
      "73  chartevents          Routine Vital Signs       ?C    Numeric      None  \n",
      "74  chartevents              Lumbar Puncture     None       Text      None  \n",
      "75  chartevents                Thoracentesis     None    Numeric      None  \n",
      "76  chartevents          Routine Vital Signs       ?F    Numeric      None  \n",
      "77  chartevents          Routine Vital Signs       ?C    Numeric      None  \n",
      "78  chartevents                   Intubation     None       Text      None  \n",
      "\n",
      "[79 rows x 10 columns]\n"
     ]
    }
   ],
   "source": [
    "ref = get_data(\"SELECT * FROM mimiciii.d_items WHERE label ~* 'temp' AND linksto = 'chartevents'\")\n",
    "print(ref)\n",
    "ref.to_csv('ITEMS_TEMP_20170606.csv')"
   ]
  },
  {
   "cell_type": "code",
   "execution_count": 145,
   "metadata": {
    "collapsed": true
   },
   "outputs": [],
   "source": [
    "def inStmt(col):\n",
    "    \"generates list\"\n",
    "    return ','.join(col.map(str))"
   ]
  },
  {
   "cell_type": "code",
   "execution_count": 147,
   "metadata": {},
   "outputs": [
    {
     "name": "stdout",
     "output_type": "stream",
     "text": [
      "763,3580,3581,3582,3583,3693,224639\n"
     ]
    }
   ],
   "source": [
    "cardiac_index = pandas.read_csv(\"ITEMS_CARDIAC_INDEX_201511111831.csv\")\n",
    "mean_pressure = pandas.read_csv(\"ITEMS_MEAN_PRESSURE_201511111723.csv\")\n",
    "systol_pressure = pandas.read_csv(\"ITEMS_SYSTOL_PRESSURE_201511111657-3.csv\")\n",
    "thromb = pandas.read_csv(\"ITEMS_THROMB_201511111845.csv\")\n",
    "venus_sat = pandas.read_csv(\"ITEMS_VENUS_SAT_201511111810.csv\")\n",
    "weight = pandas.read_csv(\"ITEMS_WEIGHT_20170606.csv\")\n",
    "tmp = weight[weight['valid'] == True]\n",
    "print(inStmt(tmp['itemid']))\n"
   ]
  },
  {
   "cell_type": "code",
   "execution_count": 38,
   "metadata": {
    "collapsed": true
   },
   "outputs": [],
   "source": [
    "ci=cardiac_index[cardiac_index['valid'] == True]\n",
    "mp=mean_pressure[mean_pressure['valid'] == True]\n",
    "sp=systol_pressure[systol_pressure['valid'] == True]\n",
    "th=thromb[thromb['valid'] == True]\n",
    "vs=venus_sat[venus_sat['valid'] == True]"
   ]
  },
  {
   "cell_type": "code",
   "execution_count": 77,
   "metadata": {},
   "outputs": [],
   "source": [
    "import pylab as plt\n",
    "from matplotlib_venn import venn3\n",
    "sepsis_sql = get_data('SELECT distinct hadm_id FROM sepsis.angus2013_sepsis')\n",
    "sepsis_severe_sql = get_data('SELECT distinct hadm_id FROM sepsis.angus2013_sepsis_severe')\n",
    "#sepsis_shock_sql = get_data('SELECT distinct hadm_id FROM sepsis.angus2013_sepsis_shock' )\n",
    "sepsis_shock_sql = get_data('SELECT distinct hadm_id FROM sepsis.angus2013_sepsis_shock' )\n",
    "set1 = set(sepsis_sql['hadm_id'])\n",
    "#idx = df['sepsis_angus']==1 \n",
    "set2 = set(sepsis_severe_sql['hadm_id']) \n",
    "#idx = df['sofa']>=2 \n",
    "set3 = set(sepsis_shock_sql['hadm_id'])\n",
    "set3=set2\n"
   ]
  },
  {
   "cell_type": "code",
   "execution_count": 67,
   "metadata": {},
   "outputs": [
    {
     "name": "stdout",
     "output_type": "stream",
     "text": [
      "   count\n",
      "0      0\n"
     ]
    }
   ],
   "source": [
    "print(get_data('SELECT count(1)  FROM sepsis.angus2013_sepsis_severe WHERE hadm_id NOT IN (SELECT hadm_id FROM sepsis.angus2013_sepsis)'))"
   ]
  },
  {
   "cell_type": "code",
   "execution_count": 81,
   "metadata": {},
   "outputs": [
    {
     "data": {
      "image/png": "[encoded data removed]",
      "text/plain": [
       "<matplotlib.figure.Figure at 0x7faa677f8630>"
      ]
     },
     "metadata": {},
     "output_type": "display_data"
    }
   ],
   "source": [
    "plt.figure(figsize=[16,16])\n",
    "plt.rcParams.update({'font.size': 14})\n",
    "venn3([set1, set2, set3], ('Sepsis', 'Sepsis Severe', 'Sepsis Shock'),      \n",
    "subset_label_formatter=lambda x: '{:,}\\n{:2.1f}%'.format(x, x*100.0/50000))\n",
    "plt.savefig('sepsis3-venn.png')\n",
    "plt.show()"
   ]
  },
  {
   "cell_type": "code",
   "execution_count": null,
   "metadata": {},
   "outputs": [],
   "source": [
    "\n"
   ]
  },
  {
   "cell_type": "code",
   "execution_count": null,
   "metadata": {
    "collapsed": true
   },
   "outputs": [],
   "source": []
  },
  {
   "cell_type": "code",
   "execution_count": null,
   "metadata": {
    "collapsed": true
   },
   "outputs": [],
   "source": []
  }
 ],
 "metadata": {
  "kernelspec": {
   "display_name": "Python 3",
   "language": "python",
   "name": "python3"
  },
  "language_info": {
   "codemirror_mode": {
    "name": "ipython",
    "version": 3
   },
   "file_extension": ".py",
   "mimetype": "text/x-python",
   "name": "python",
   "nbconvert_exporter": "python",
   "pygments_lexer": "ipython3",
   "version": "3.6.1"
  }
 },
 "nbformat": 4,
 "nbformat_minor": 2
}
