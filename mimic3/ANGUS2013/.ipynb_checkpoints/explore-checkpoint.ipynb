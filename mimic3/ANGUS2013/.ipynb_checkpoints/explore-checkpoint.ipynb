{
 "cells": [
  {
   "cell_type": "code",
   "execution_count": 1,
   "metadata": {
    "collapsed": true
   },
   "outputs": [],
   "source": [
    "import psycopg2\n",
    "import sys\n",
    "import pprint\n",
    "import pandas\n",
    "import random"
   ]
  },
  {
   "cell_type": "code",
   "execution_count": 2,
   "metadata": {
    "collapsed": true
   },
   "outputs": [],
   "source": [
    "def connect():\n",
    "    \"return a connection\"\n",
    "    conn_string = \"host='localhost' dbname='mimic' user='postgres'\"\n",
    "    conn = psycopg2.connect(conn_string)\n",
    "    return conn\n",
    "    \n",
    "def disconnect(conn):\n",
    "    \"disconnect\"\n",
    "    conn.commit()\n",
    "    conn.close()\n",
    "\n",
    "def get_data( query, itersize=10000):\n",
    "    \"return a pandas dataframe with columns names\"\n",
    "    conn = connect()\n",
    "    cur = conn.cursor(f'tmpCursor')\n",
    "    cur.itersize = itersize\n",
    "    cur.execute(query)\n",
    "    pd = pandas.DataFrame(cur.fetchall(),columns= [desc[0] for desc in cur.description])\n",
    "    cur.close()\n",
    "    disconnect(conn)\n",
    "    return pd\n"
   ]
  },
  {
   "cell_type": "code",
   "execution_count": null,
   "metadata": {
    "collapsed": true
   },
   "outputs": [],
   "source": [
    "print(get_data(\"select * from mimiciii.d_items where itemid IN (818, 1531, 22566) \"))"
   ]
  },
  {
   "cell_type": "code",
   "execution_count": 25,
   "metadata": {
    "collapsed": true
   },
   "outputs": [],
   "source": [
    " #print(get_data(\"SELECT table_schema, table_name FROM information_schema.tables WHERE table_schema IN (  'mimiciii')\"))"
   ]
  },
  {
   "cell_type": "code",
   "execution_count": 26,
   "metadata": {
    "collapsed": true
   },
   "outputs": [],
   "source": [
    "# print(get_data(\"SELECT * FROM sepsis.general_vars LIMIT 10\"))"
   ]
  },
  {
   "cell_type": "code",
   "execution_count": 27,
   "metadata": {
    "collapsed": true
   },
   "outputs": [],
   "source": [
    "#ref = get_data(\"SELECT * FROM mimiciii.d_items WHERE label ~* 'temp' AND linksto = 'chartevents'\")\n",
    "#print(ref)\n",
    "#ref.to_csv('ITEMS_TEMP_20170606.csv')"
   ]
  },
  {
   "cell_type": "code",
   "execution_count": 145,
   "metadata": {
    "collapsed": true
   },
   "outputs": [],
   "source": [
    "def inStmt(col):\n",
    "    \"generates list\"\n",
    "    return ','.join(col.map(str))"
   ]
  },
  {
   "cell_type": "code",
   "execution_count": null,
   "metadata": {
    "collapsed": true
   },
   "outputs": [],
   "source": [
    "cardiac_index = pandas.read_csv(\"ITEMS_CARDIAC_INDEX_201511111831.csv\")\n",
    "mean_pressure = pandas.read_csv(\"ITEMS_MEAN_PRESSURE_201511111723.csv\")\n",
    "systol_pressure = pandas.read_csv(\"ITEMS_SYSTOL_PRESSURE_201511111657-3.csv\")\n",
    "thromb = pandas.read_csv(\"ITEMS_THROMB_201511111845.csv\")\n",
    "venus_sat = pandas.read_csv(\"ITEMS_VENUS_SAT_201511111810.csv\")\n",
    "weight = pandas.read_csv(\"ITEMS_WEIGHT_20170606.csv\")\n",
    "temp = pandas.read_csv(\"ITEMS_TEMP_20170606.csv\")\n",
    "tmp = temp[temp['conceptid'] == True]\n",
    "print(inStmt(tmp['itemid']))\n",
    "a = get_data(\"SELECT * FROM mimiciii.d_icd_diagnoses\")\n",
    "a.to_csv('diag.csv')"
   ]
  },
  {
   "cell_type": "code",
   "execution_count": null,
   "metadata": {
    "collapsed": true
   },
   "outputs": [],
   "source": [
    "print(get_data(f'SELECT max(valuenum), avg(valuenum),  count(1), itemid, valueuom, label \\\n",
    "FROM mimiciii.chartevents \\\n",
    "JOIN mimiciii.d_items USING (itemid) \\\n",
    "WHERE valuenum IS NOT NULL AND itemid IN (225678, 227457, 828, 3789, 6256) \\\n",
    "GROUP BY valueuom, itemid, label order by count DESC;'))"
   ]
  },
  {
   "cell_type": "code",
   "execution_count": null,
   "metadata": {
    "collapsed": true
   },
   "outputs": [],
   "source": [
    "print(get_data(f'SELECT max(valuenum), avg(valuenum),  count(1), itemid, valueuom, label \\\n",
    "FROM mimiciii.chartevents \\\n",
    "JOIN mimiciii.d_items USING (itemid) \\\n",
    "WHERE valuenum IS NOT NULL AND valuenum < 155 AND  itemid IN (818, 1531, 225668) \\\n",
    "GROUP BY valueuom, itemid, label order by count DESC;'))"
   ]
  },
  {
   "cell_type": "code",
   "execution_count": null,
   "metadata": {
    "collapsed": true
   },
   "outputs": [],
   "source": [
    "print(get_data(\"SELECT max(value), avg(value), median(value::numeric), count(1), itemid, label \\\n",
    "        FROM mimiciii.outputevents cd\\\n",
    "        JOIN mimiciii.d_items USING (itemid) \\\n",
    "        WHERE\\\n",
    "        label ~* 'urin'\\\n",
    "        AND  value != 0\\\n",
    "        GROUP BY valueuom, itemid, label order by count DESC;\" ))"
   ]
  },
  {
   "cell_type": "code",
   "execution_count": 28,
   "metadata": {
    "collapsed": true
   },
   "outputs": [],
   "source": [
    "#print(get_data(\"SELECT * FROM mimiciii.d_items WHERE label ~* 'urin'\"))"
   ]
  },
  {
   "cell_type": "code",
   "execution_count": 38,
   "metadata": {
    "collapsed": true
   },
   "outputs": [],
   "source": [
    "ci=cardiac_index[cardiac_index['valid'] == True]\n",
    "mp=mean_pressure[mean_pressure['valid'] == True]\n",
    "sp=systol_pressure[systol_pressure['valid'] == True]\n",
    "th=thromb[thromb['valid'] == True]\n",
    "vs=venus_sat[venus_sat['valid'] == True]"
   ]
  },
  {
   "cell_type": "code",
   "execution_count": 1,
   "metadata": {},
   "outputs": [
    {
     "ename": "NameError",
     "evalue": "name 'get_data' is not defined",
     "output_type": "error",
     "traceback": [
      "\u001b[0;31m---------------------------------------------------------------------------\u001b[0m",
      "\u001b[0;31mNameError\u001b[0m                                 Traceback (most recent call last)",
      "\u001b[0;32m<ipython-input-1-4733e36bcadd>\u001b[0m in \u001b[0;36m<module>\u001b[0;34m()\u001b[0m\n\u001b[0;32m----> 1\u001b[0;31m \u001b[0mprint\u001b[0m\u001b[0;34m(\u001b[0m\u001b[0mget_data\u001b[0m\u001b[0;34m(\u001b[0m\u001b[0;34m'SELECT count(1)  FROM sepsis.angus2013_sepsis_severe WHERE hadm_id NOT IN (SELECT hadm_id FROM sepsis.angus2013_sepsis)'\u001b[0m\u001b[0;34m)\u001b[0m\u001b[0;34m)\u001b[0m\u001b[0;34m\u001b[0m\u001b[0m\n\u001b[0m",
      "\u001b[0;31mNameError\u001b[0m: name 'get_data' is not defined"
     ]
    }
   ],
   "source": [
    "print(get_data('SELECT count(1)  FROM sepsis.angus2013_sepsis_severe WHERE hadm_id NOT IN (SELECT hadm_id FROM sepsis.angus2013_sepsis)'))"
   ]
  },
  {
   "cell_type": "code",
   "execution_count": 3,
   "metadata": {},
   "outputs": [
    {
     "ename": "NameError",
     "evalue": "name 'get_data' is not defined",
     "output_type": "error",
     "traceback": [
      "\u001b[0;31m---------------------------------------------------------------------------\u001b[0m",
      "\u001b[0;31mNameError\u001b[0m                                 Traceback (most recent call last)",
      "\u001b[0;32m<ipython-input-3-68485101417e>\u001b[0m in \u001b[0;36m<module>\u001b[0;34m()\u001b[0m\n\u001b[1;32m      9\u001b[0m \u001b[0;31m#get_data(f\"WITH inf as (SELECT column1 as cd FROM (VALUES ('{pred}')) as tmp)\\\u001b[0m\u001b[0;34m\u001b[0m\u001b[0;34m\u001b[0m\u001b[0m\n\u001b[1;32m     10\u001b[0m \u001b[0;31m#         SELECT count(1) FROM inf WHERE cd NOT IN (SELECT icd9_code FROM mimiciii.diagnoses_icd) \")\u001b[0m\u001b[0;34m\u001b[0m\u001b[0;34m\u001b[0m\u001b[0m\n\u001b[0;32m---> 11\u001b[0;31m \u001b[0mget_data\u001b[0m\u001b[0;34m(\u001b[0m\u001b[0;34mf\"WITH inf as (SELECT column1 as cd FROM (VALUES ('{pred}')) as tmp)           SELECT count(distinct hadm_id)            FROM mimiciii.diagnoses_icd            WHERE icd9_code IN (SELECT * FROM inf)\"\u001b[0m\u001b[0;34m)\u001b[0m\u001b[0;34m\u001b[0m\u001b[0m\n\u001b[0m\u001b[1;32m     12\u001b[0m \u001b[0mpred\u001b[0m \u001b[0;34m=\u001b[0m \u001b[0;34m\"','\"\u001b[0m\u001b[0;34m.\u001b[0m\u001b[0mjoin\u001b[0m\u001b[0;34m(\u001b[0m\u001b[0mlist\u001b[0m\u001b[0;34m(\u001b[0m\u001b[0mset\u001b[0m\u001b[0;34m(\u001b[0m\u001b[0minf\u001b[0m\u001b[0;34m)\u001b[0m\u001b[0;34m)\u001b[0m\u001b[0;34m)\u001b[0m\u001b[0;34m\u001b[0m\u001b[0m\n\u001b[1;32m     13\u001b[0m \u001b[0ma\u001b[0m \u001b[0;34m=\u001b[0m\u001b[0;34m(\u001b[0m\u001b[0;34mf\"SELECT DISTINCT subject_id, hadm_id FROM mimiciii.diagnoses_icd WHERE icd9_code IN ('{pred}')\"\u001b[0m\u001b[0;34m)\u001b[0m\u001b[0;34m\u001b[0m\u001b[0m\n",
      "\u001b[0;31mNameError\u001b[0m: name 'get_data' is not defined"
     ]
    }
   ],
   "source": [
    "#TEST IF JEROME CODES ARE OK\n",
    "import re\n",
    "f = open('infect_icd9_jab.txt')\n",
    "inf = f.read()\n",
    "inf = list(filter(len,re.split(\"\\s+|\\n\", inf)))\n",
    "inf = [x for x in inf if len(x) != 3]\n",
    "#inf = list(filter(len,re.split(\"\\s+|\\n\", inf)))\n",
    "pred = \"'),('\".join(inf)\n",
    "#get_data(f\"WITH inf as (SELECT column1 as cd FROM (VALUES ('{pred}')) as tmp)\\\n",
    "#         SELECT count(1) FROM inf WHERE cd NOT IN (SELECT icd9_code FROM mimiciii.diagnoses_icd) \")\n",
    "get_data(f\"WITH inf as (SELECT column1 as cd FROM (VALUES ('{pred}')) as tmp)\\\n",
    "           SELECT count(distinct hadm_id) \\\n",
    "           FROM mimiciii.diagnoses_icd \\\n",
    "           WHERE icd9_code IN (SELECT * FROM inf)\")\n",
    "pred = \"','\".join(list(set(inf)))\n",
    "a =(f\"SELECT DISTINCT subject_id, hadm_id \\\n",
    "FROM mimiciii.diagnoses_icd \\\n",
    "WHERE icd9_code IN ('{pred}')\")\n",
    "f1=open('jero_icd9.sql', 'w+')\n",
    "f1.write(a)\n"
   ]
  },
  {
   "cell_type": "code",
   "execution_count": null,
   "metadata": {
    "collapsed": true
   },
   "outputs": [],
   "source": [
    "# ANGUS: génération des codes à partir du fichier texte de jerome\n",
    "\n",
    "\n",
    "#ANGUS appendix\n",
    "import re\n",
    "f = open('angus_appendix1.txt')\n",
    "inf = f.read()\n",
    "inf = list(filter(len,re.split(\"\\s+|\\n\", inf)))\n",
    "app1 = list()\n",
    "for i in set(inf):\n",
    "    if re.match(\".*\\d+.*,$\",i):\n",
    "        app1.append(i[:-1])\n",
    "app1 = \"|^\".join(app1)\n",
    "f = open('angus_appendix2.txt')\n",
    "inf = f.read()\n",
    "app2 = list(filter(len,re.split(\"\\s+|\\n\", inf)))\n",
    "app2 = \"|^\".join(app2)\n",
    "\n",
    "angus = \\\n",
    "f'''\n",
    "SELECT hadm_id \n",
    "FROM angus_deliberation\n",
    "(\n",
    "SELECT distinct hadm_id \n",
    "FROM mimiciii.diagnoses_icd \n",
    "WHERE icd9_code ~ '^{app1}'\n",
    "INTERSECT\n",
    "SELECT distinct hadm_id\n",
    "FROM mimiciii.diagnoses_icd\n",
    "WHERE icd9_code ~ '^{app2}'\n",
    ") as tmp\n",
    "'''\n",
    "    \n",
    "f1=open('jero_angus.sql', 'w+')\n",
    "f1.write(angus)\n",
    "f1.close()\n"
   ]
  }
 ],
 "metadata": {
  "kernelspec": {
   "display_name": "Python 3",
   "language": "python",
   "name": "python3"
  },
  "language_info": {
   "codemirror_mode": {
    "name": "ipython",
    "version": 3
   },
   "file_extension": ".py",
   "mimetype": "text/x-python",
   "name": "python",
   "nbconvert_exporter": "python",
   "pygments_lexer": "ipython3",
   "version": "3.6.1"
  }
 },
 "nbformat": 4,
 "nbformat_minor": 2
}
