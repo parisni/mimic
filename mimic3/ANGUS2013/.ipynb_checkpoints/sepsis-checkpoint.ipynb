{
 "cells": [
  {
   "cell_type": "code",
   "execution_count": 3,
   "metadata": {
    "collapsed": true
   },
   "outputs": [],
   "source": [
    "import psycopg2\n",
    "import sys\n",
    "import pprint\n",
    "import pandas\n",
    "import random\n",
    "from tableone import TableOne"
   ]
  },
  {
   "cell_type": "code",
   "execution_count": 4,
   "metadata": {
    "collapsed": true
   },
   "outputs": [],
   "source": [
    "def connect():\n",
    "    \"return a connection\"\n",
    "    conn_string = \"host='localhost' dbname='mimic' user='postgres'\"\n",
    "    conn = psycopg2.connect(conn_string)\n",
    "    return conn\n",
    "    \n",
    "def disconnect(conn):\n",
    "    \"disconnect\"\n",
    "    conn.commit()\n",
    "    conn.close()\n",
    "\n",
    "def get_data( query, itersize=10000):\n",
    "    \"return a pandas dataframe with columns names\"\n",
    "    conn = connect()\n",
    "    cur = conn.cursor(f'tmpCursor')\n",
    "    cur.itersize = itersize\n",
    "    cur.execute(query)\n",
    "    pd = pandas.DataFrame(cur.fetchall(),columns= [desc[0] for desc in cur.description])\n",
    "    cur.close()\n",
    "    disconnect(conn)\n",
    "    return pd\n",
    "\n",
    "def inStmt(col):\n",
    "    \"generates list\"\n",
    "    return ','.join(col.map(str))"
   ]
  },
  {
   "cell_type": "code",
   "execution_count": 5,
   "metadata": {},
   "outputs": [
    {
     "data": {
      "text/plain": [
       "17072"
      ]
     },
     "execution_count": 5,
     "metadata": {},
     "output_type": "execute_result"
    }
   ],
   "source": [
    "#TEST IF JEROME CODES ARE OK\n",
    "import re\n",
    "f = open('infect_icd9_jab.txt')\n",
    "inf = f.read()\n",
    "inf = list(filter(len,re.split(\"\\s+|\\n\", inf)))\n",
    "inf = [x for x in inf if len(x) != 3]\n",
    "#inf = list(filter(len,re.split(\"\\s+|\\n\", inf)))\n",
    "pred = \"'),('\".join(inf)\n",
    "#get_data(f\"WITH inf as (SELECT column1 as cd FROM (VALUES ('{pred}')) as tmp)\\\n",
    "#         SELECT count(1) FROM inf WHERE cd NOT IN (SELECT icd9_code FROM mimiciii.diagnoses_icd) \")\n",
    "get_data(f\"WITH inf as (SELECT column1 as cd FROM (VALUES ('{pred}')) as tmp)\\\n",
    "           SELECT count(distinct hadm_id) \\\n",
    "           FROM mimiciii.diagnoses_icd \\\n",
    "           WHERE icd9_code IN (SELECT * FROM inf)\")\n",
    "pred = \"','\".join(list(set(inf)))\n",
    "a =(f\"SELECT DISTINCT subject_id, hadm_id \\\n",
    "FROM mimiciii.diagnoses_icd \\\n",
    "WHERE icd9_code IN ('{pred}')\")\n",
    "f1=open('jero_icd9.sql', 'w+')\n",
    "f1.write(a)\n"
   ]
  },
  {
   "cell_type": "code",
   "execution_count": 6,
   "metadata": {
    "collapsed": true
   },
   "outputs": [],
   "source": [
    "# FROM ALISTAIR:\n",
    "#\n",
    "# - GCS should be < 13 because that's more consistent with sepsis 3 => DONE\n",
    "# - You can get immature band forms from labevents as ITEMID = 51144 => OK CHAP2 INFLA\n",
    "# - can you send me your pao2/fio2 analysis? Jerome and I think we should do FiO2 => THE CODE is row 146 of file angus2013.sql\n",
    "# only before PaO2 - but it would be nice to really analyze the data and know all\n",
    "# the details - I'd love to write up a notebook with all the details.\n",
    "# - creatinine definition changed to >0.3 in 48 hours => DONE creatinine difference more than 0.3 in a 48 hour WINDOW; SAVES 2000 admissions\n",
    "# - I plan to do a sensitivity analysis of the suspicion of infection definition,\n",
    "# I'll try to forward you some results ASAP.\n"
   ]
  },
  {
   "cell_type": "code",
   "execution_count": 7,
   "metadata": {
    "collapsed": true
   },
   "outputs": [],
   "source": [
    "#ANGUS: only codes\n",
    "# +  le meme jour toutes ces choses là:\n",
    "# prélevement bacterio    => prelevement réalisé (liste dans sepsis 3)\n",
    "# antibiotique => ()\n",
    "# remplissage => (liste à définir) eau administrée\n",
    "# SHOCK: DAns la fenetre 72/24, alors si vasopresseur ALORS SHOCK sinon SEVERE\n",
    "\n",
    "#ANGUS appendix\n",
    "import re\n",
    "f = open('angus_appendix1.txt')\n",
    "inf = f.read()\n",
    "inf = list(filter(len,re.split(\"\\s+|\\n\", inf)))\n",
    "app1 = list()\n",
    "for i in set(inf):\n",
    "    if re.match(\".*\\d+.*,$\",i):\n",
    "        app1.append(i[:-1])\n",
    "app1 = \"|^\".join(app1)\n",
    "f = open('angus_appendix2.txt')\n",
    "inf = f.read()\n",
    "app2 = list(filter(len,re.split(\"\\s+|\\n\", inf)))\n",
    "app2 = \"|^\".join(app2)\n",
    "\n",
    "angus = \\\n",
    "f'''\n",
    "SELECT hadm_id \n",
    "FROM angus_deliberation\n",
    "(\n",
    "SELECT distinct hadm_id \n",
    "FROM mimiciii.diagnoses_icd \n",
    "WHERE icd9_code ~ '^{app1}'\n",
    "INTERSECT\n",
    "SELECT distinct hadm_id\n",
    "FROM mimiciii.diagnoses_icd\n",
    "WHERE icd9_code ~ '^{app2}'\n",
    ") as tmp\n",
    "'''\n",
    "    \n",
    "f1=open('jero_angus.sql', 'w+')\n",
    "f1.write(angus)\n",
    "f1.close()\n"
   ]
  },
  {
   "cell_type": "code",
   "execution_count": 42,
   "metadata": {},
   "outputs": [],
   "source": [
    "angus = get_data('SELECT hadm_id FROM sepsis.angus_deliberation WHERE type = 1')\n",
    "angus = set(angus['hadm_id']) "
   ]
  },
  {
   "cell_type": "code",
   "execution_count": 43,
   "metadata": {
    "collapsed": true
   },
   "outputs": [],
   "source": [
    "# ACCP_SEVERE: \n",
    "# 1) dans infection icd9\n",
    "# dans une fenetre de 24h :\n",
    "# 2.a) 2 critères dans chap general et inflamatory\n",
    "# 2.b) 1 dans Soit organ disf SOIT tissue hypo SOIT émodynamique variable\n",
    "## SEPSIS TOUT COURT: 2 crit dans general et inflamatory\n",
    "accp = get_data('SELECT distinct hadm_id FROM sepsis.accp_deliberation WHERE type = 2')          \n",
    "accp_severe = set(accp['hadm_id'])"
   ]
  },
  {
   "cell_type": "code",
   "execution_count": 44,
   "metadata": {
    "collapsed": true
   },
   "outputs": [],
   "source": [
    "#ACCP_SIMPLE\n",
    "# 1) dans infection icd9\n",
    "# dans une fenetre de 24h :\n",
    "# 2.) 2 critères dans chap general et inflamatory\n",
    "\n",
    "sepsis_simple = get_data('SELECT distinct hadm_id FROM sepsis.accp_deliberation WHERE type = 1')          \n",
    "accp_simple = set(sepsis_simple['hadm_id'])"
   ]
  },
  {
   "cell_type": "code",
   "execution_count": 45,
   "metadata": {
    "collapsed": true
   },
   "outputs": [],
   "source": [
    "#ACCP_SHOCK\n",
    "# 1) dans infection icd9\n",
    "# dans une fenetre de 24h :\n",
    "# 2.) 2 critères dans chap general et inflamatory\n",
    "\n",
    "sepsis_shock = get_data('SELECT distinct hadm_id FROM sepsis.accp_deliberation WHERE type = 3')          \n",
    "accp_shock = set(sepsis_shock['hadm_id'])"
   ]
  },
  {
   "cell_type": "code",
   "execution_count": 46,
   "metadata": {},
   "outputs": [],
   "source": [
    "#Sepsis3: \n",
    "# 1) dans infection icd9\n",
    "# 2) sofa >= 2 \n",
    "# 3) si il y a eu des vasopresseurs alors retirer ceux avec lactate >2   (car ils seraient en shock)\n",
    "sofa = \\\n",
    "f'''\n",
    "SELECT hadm_id\n",
    "FROM sepsis.sepsis3_deliberation WHERE type =1\n",
    "'''\n",
    "sepsis3 = get_data(sofa)\n",
    "sepsis3 = set(sepsis3['hadm_id'])"
   ]
  },
  {
   "cell_type": "code",
   "execution_count": 48,
   "metadata": {
    "scrolled": false
   },
   "outputs": [
    {
     "data": {
      "image/png": "[encoded data removed]",
      "text/plain": [
       "<matplotlib.figure.Figure at 0x7fbeabe610b8>"
      ]
     },
     "metadata": {},
     "output_type": "display_data"
    }
   ],
   "source": [
    "import pylab as plt\n",
    "from matplotlib_venn import venn3\n",
    "plt.figure(figsize=[16,16])\n",
    "plt.rcParams.update({'font.size': 14})\n",
    "venn3([accp_severe, angus, sepsis3], ('ACCP', 'Angus', 'Sepsis3'),      \n",
    "subset_label_formatter=lambda x: '{:,}\\n{:2.1f}%'.format(x, x*100.0/60000))\n",
    "plt.savefig('sepsis3-venn.png')\n",
    "plt.show()"
   ]
  },
  {
   "cell_type": "code",
   "execution_count": null,
   "metadata": {
    "collapsed": true
   },
   "outputs": [],
   "source": [
    "import pylab as plt\n",
    "from matplotlib_venn import venn3\n",
    "plt.figure(figsize=[16,16])\n",
    "plt.rcParams.update({'font.size': 14})\n",
    "venn3([accp_shock, angus, sepsis3], ('ACCP', 'Angus', 'Sepsis3'),      \n",
    "subset_label_formatter=lambda x: '{:,}\\n{:2.1f}%'.format(x, x*100.0/60000))\n",
    "plt.savefig('sepsis3-venn.png')\n",
    "plt.show()"
   ]
  },
  {
   "cell_type": "code",
   "execution_count": 31,
   "metadata": {},
   "outputs": [
    {
     "data": {
      "text/plain": [
       "Stratified by accp_type\n",
       "                               1                2                3\n",
       "-----------------------------  ---------------  ---------------  ---------------\n",
       "n                              6152             17776            4204\n",
       "age (mean (std))               6.48 (23.72)     76.02 (58.06)    78.49 (56.09)\n",
       "length_admission (mean (std))  253.25 (430.18)  319.21 (318.14)  434.66 (432.79)\n",
       "death_admission (n (%))\n",
       "0                              6122 (99.51)     15976 (89.87)    2512 (59.75)\n",
       "1                              30 (0.49)        1800 (10.13)     1692 (40.25)\n",
       "gender (n (%))\n",
       "F                              2784 (45.25)     8350 (46.97)     1858 (44.20)\n",
       "M                              3368 (54.75)     9426 (53.03)     2346 (55.80)"
      ]
     },
     "execution_count": 31,
     "metadata": {},
     "output_type": "execute_result"
    }
   ],
   "source": [
    "#### from tableone import TableOne\n",
    "data = get_data( \\\n",
    "f'''\n",
    "SELECT \n",
    "a.hadm_id,\n",
    "p.gender, \n",
    "EXTRACT(year FROM age(a.admittime, p.dob)) as age, \n",
    "EXTRACT(epoch FROM a.dischtime - a.admittime)/3600 as length_admission, \n",
    "a.hospital_expire_flag as death_admission,\n",
    "ad.type as accp_type\n",
    "FROM mimiciii.admissions a\n",
    "LEFT JOIN mimiciii.patients p USING (subject_id)\n",
    "INNER JOIN sepsis.accp_deliberation ad USING (hadm_id)\n",
    "'''\n",
    ")\n",
    "data.index.name='id'\n",
    "data.head()\n",
    "\n",
    "strat = 'accp_type'\n",
    "convars = ['age', 'length_admission']\n",
    "\n",
    "# list of columns containing categorical variables\n",
    "catvars = ['death_admission',  'gender']\n",
    "strat_table = TableOne(data, convars, catvars, strat)\n",
    "strat_table"
   ]
  },
  {
   "cell_type": "code",
   "execution_count": 41,
   "metadata": {},
   "outputs": [
    {
     "data": {
      "text/plain": [
       "Stratified by sepsis3_type\n",
       "                               1                2\n",
       "-----------------------------  ---------------  ---------------\n",
       "n                              587              2534\n",
       "age (mean (std))               66.06 (61.12)    73.17 (53.05)\n",
       "length_admission (mean (std))  435.92 (542.09)  487.99 (471.09)\n",
       "death_admission (n (%))\n",
       "0                              520 (88.59)      1988 (78.45)\n",
       "1                              67 (11.41)       546 (21.55)\n",
       "gender (n (%))\n",
       "F                              259 (44.12)      1094 (43.17)\n",
       "M                              328 (55.88)      1440 (56.83)"
      ]
     },
     "execution_count": 41,
     "metadata": {},
     "output_type": "execute_result"
    }
   ],
   "source": [
    "#### from tableone import TableOne\n",
    "data = get_data( \\\n",
    "f'''\n",
    "SELECT \n",
    "a.hadm_id,\n",
    "p.gender, \n",
    "EXTRACT(year FROM age(a.admittime, p.dob)) as age, \n",
    "EXTRACT(epoch FROM a.dischtime - a.admittime)/3600 as length_admission, \n",
    "a.hospital_expire_flag as death_admission,\n",
    "ad.type as sepsis3_type\n",
    "FROM mimiciii.admissions a\n",
    "LEFT JOIN mimiciii.patients p USING (subject_id)\n",
    "INNER JOIN sepsis.sepsis3_deliberation ad USING (hadm_id)\n",
    "'''\n",
    ")\n",
    "data.index.name='id'\n",
    "data.head()\n",
    "\n",
    "strat = 'sepsis3_type'\n",
    "convars = ['age', 'length_admission']\n",
    "\n",
    "# list of columns containing categorical variables\n",
    "catvars = ['death_admission',  'gender']\n",
    "strat_table = TableOne(data, convars, catvars, strat)\n",
    "strat_table"
   ]
  },
  {
   "cell_type": "code",
   "execution_count": 40,
   "metadata": {},
   "outputs": [
    {
     "data": {
      "text/plain": [
       "Stratified by angus_type\n",
       "                               1                2\n",
       "-----------------------------  ---------------  ---------------\n",
       "n                              1417             53\n",
       "age (mean (std))               75.71 (56.09)    71.79 (34.72)\n",
       "length_admission (mean (std))  532.40 (506.05)  463.57 (369.76)\n",
       "death_admission (n (%))\n",
       "0                              1057 (74.59)     28 (52.83)\n",
       "1                              360 (25.41)      25 (47.17)\n",
       "gender (n (%))\n",
       "F                              571 (40.30)      18 (33.96)\n",
       "M                              846 (59.70)      35 (66.04)"
      ]
     },
     "execution_count": 40,
     "metadata": {},
     "output_type": "execute_result"
    }
   ],
   "source": [
    "#### from tableone import TableOne\n",
    "data = get_data( \\\n",
    "f'''\n",
    "SELECT \n",
    "a.hadm_id,\n",
    "p.gender, \n",
    "EXTRACT(year FROM age(a.admittime, p.dob)) as age, \n",
    "EXTRACT(epoch FROM a.dischtime - a.admittime)/3600 as length_admission, \n",
    "a.hospital_expire_flag as death_admission,\n",
    "ad.type as angus_type\n",
    "FROM mimiciii.admissions a\n",
    "LEFT JOIN mimiciii.patients p USING (subject_id)\n",
    "INNER JOIN sepsis.angus_deliberation ad USING (hadm_id)\n",
    "'''\n",
    ")\n",
    "data.index.name='id'\n",
    "data.head()\n",
    "\n",
    "strat = 'angus_type'\n",
    "convars = ['age', 'length_admission']\n",
    "\n",
    "# list of columns containing categorical variables\n",
    "catvars = ['death_admission',  'gender']\n",
    "strat_table = TableOne(data, convars, catvars, strat)\n",
    "strat_table"
   ]
  },
  {
   "cell_type": "code",
   "execution_count": 30,
   "metadata": {},
   "outputs": [
    {
     "ename": "TypeError",
     "evalue": "ufunc 'bitwise_or' not supported for the input types, and the inputs could not be safely coerced to any supported types according to the casting rule ''safe''",
     "output_type": "error",
     "traceback": [
      "\u001b[0;31m---------------------------------------------------------------------------\u001b[0m",
      "\u001b[0;31mTypeError\u001b[0m                                 Traceback (most recent call last)",
      "\u001b[0;32m/home/natus/anaconda3/lib/python3.6/site-packages/pandas/core/ops.py\u001b[0m in \u001b[0;36mna_op\u001b[0;34m(x, y)\u001b[0m\n\u001b[1;32m   1175\u001b[0m             result = expressions.evaluate(op, str_rep, x, y,\n\u001b[0;32m-> 1176\u001b[0;31m                                           raise_on_error=True, **eval_kwargs)\n\u001b[0m\u001b[1;32m   1177\u001b[0m         \u001b[0;32mexcept\u001b[0m \u001b[0mTypeError\u001b[0m\u001b[0;34m:\u001b[0m\u001b[0;34m\u001b[0m\u001b[0m\n",
      "\u001b[0;32m/home/natus/anaconda3/lib/python3.6/site-packages/pandas/core/computation/expressions.py\u001b[0m in \u001b[0;36mevaluate\u001b[0;34m(op, op_str, a, b, raise_on_error, use_numexpr, **eval_kwargs)\u001b[0m\n\u001b[1;32m    210\u001b[0m         return _evaluate(op, op_str, a, b, raise_on_error=raise_on_error,\n\u001b[0;32m--> 211\u001b[0;31m                          **eval_kwargs)\n\u001b[0m\u001b[1;32m    212\u001b[0m     \u001b[0;32mreturn\u001b[0m \u001b[0m_evaluate_standard\u001b[0m\u001b[0;34m(\u001b[0m\u001b[0mop\u001b[0m\u001b[0;34m,\u001b[0m \u001b[0mop_str\u001b[0m\u001b[0;34m,\u001b[0m \u001b[0ma\u001b[0m\u001b[0;34m,\u001b[0m \u001b[0mb\u001b[0m\u001b[0;34m,\u001b[0m \u001b[0mraise_on_error\u001b[0m\u001b[0;34m=\u001b[0m\u001b[0mraise_on_error\u001b[0m\u001b[0;34m)\u001b[0m\u001b[0;34m\u001b[0m\u001b[0m\n",
      "\u001b[0;32m/home/natus/anaconda3/lib/python3.6/site-packages/pandas/core/computation/expressions.py\u001b[0m in \u001b[0;36m_evaluate_numexpr\u001b[0;34m(op, op_str, a, b, raise_on_error, truediv, reversed, **eval_kwargs)\u001b[0m\n\u001b[1;32m    121\u001b[0m     \u001b[0;32mif\u001b[0m \u001b[0mresult\u001b[0m \u001b[0;32mis\u001b[0m \u001b[0;32mNone\u001b[0m\u001b[0;34m:\u001b[0m\u001b[0;34m\u001b[0m\u001b[0m\n\u001b[0;32m--> 122\u001b[0;31m         \u001b[0mresult\u001b[0m \u001b[0;34m=\u001b[0m \u001b[0m_evaluate_standard\u001b[0m\u001b[0;34m(\u001b[0m\u001b[0mop\u001b[0m\u001b[0;34m,\u001b[0m \u001b[0mop_str\u001b[0m\u001b[0;34m,\u001b[0m \u001b[0ma\u001b[0m\u001b[0;34m,\u001b[0m \u001b[0mb\u001b[0m\u001b[0;34m,\u001b[0m \u001b[0mraise_on_error\u001b[0m\u001b[0;34m)\u001b[0m\u001b[0;34m\u001b[0m\u001b[0m\n\u001b[0m\u001b[1;32m    123\u001b[0m \u001b[0;34m\u001b[0m\u001b[0m\n",
      "\u001b[0;32m/home/natus/anaconda3/lib/python3.6/site-packages/pandas/core/computation/expressions.py\u001b[0m in \u001b[0;36m_evaluate_standard\u001b[0;34m(op, op_str, a, b, raise_on_error, **eval_kwargs)\u001b[0m\n\u001b[1;32m     63\u001b[0m     \u001b[0;32mwith\u001b[0m \u001b[0mnp\u001b[0m\u001b[0;34m.\u001b[0m\u001b[0merrstate\u001b[0m\u001b[0;34m(\u001b[0m\u001b[0mall\u001b[0m\u001b[0;34m=\u001b[0m\u001b[0;34m'ignore'\u001b[0m\u001b[0;34m)\u001b[0m\u001b[0;34m:\u001b[0m\u001b[0;34m\u001b[0m\u001b[0m\n\u001b[0;32m---> 64\u001b[0;31m         \u001b[0;32mreturn\u001b[0m \u001b[0mop\u001b[0m\u001b[0;34m(\u001b[0m\u001b[0ma\u001b[0m\u001b[0;34m,\u001b[0m \u001b[0mb\u001b[0m\u001b[0;34m)\u001b[0m\u001b[0;34m\u001b[0m\u001b[0m\n\u001b[0m\u001b[1;32m     65\u001b[0m \u001b[0;34m\u001b[0m\u001b[0m\n",
      "\u001b[0;31mTypeError\u001b[0m: ufunc 'bitwise_or' not supported for the input types, and the inputs could not be safely coerced to any supported types according to the casting rule ''safe''",
      "\nDuring handling of the above exception, another exception occurred:\n",
      "\u001b[0;31mTypeError\u001b[0m                                 Traceback (most recent call last)",
      "\u001b[0;32m<ipython-input-30-b3773de7da96>\u001b[0m in \u001b[0;36m<module>\u001b[0;34m()\u001b[0m\n\u001b[1;32m      2\u001b[0m \u001b[0mplt\u001b[0m\u001b[0;34m.\u001b[0m\u001b[0mrcParams\u001b[0m\u001b[0;34m.\u001b[0m\u001b[0mupdate\u001b[0m\u001b[0;34m(\u001b[0m\u001b[0;34m{\u001b[0m\u001b[0;34m'font.size'\u001b[0m\u001b[0;34m:\u001b[0m \u001b[0;36m14\u001b[0m\u001b[0;34m}\u001b[0m\u001b[0;34m)\u001b[0m\u001b[0;34m\u001b[0m\u001b[0m\n\u001b[1;32m      3\u001b[0m venn3([accp, sepsis_simple, sepsis_shock], ('ACCP', 'sepsis_simple', 'Sepsis Shock'),      \n\u001b[0;32m----> 4\u001b[0;31m subset_label_formatter=lambda x: '{:,}\\n{:2.1f}%'.format(x, x*100.0/60000))\n\u001b[0m\u001b[1;32m      5\u001b[0m \u001b[0mplt\u001b[0m\u001b[0;34m.\u001b[0m\u001b[0msavefig\u001b[0m\u001b[0;34m(\u001b[0m\u001b[0;34m'sepsis3-venn.png'\u001b[0m\u001b[0;34m)\u001b[0m\u001b[0;34m\u001b[0m\u001b[0m\n\u001b[1;32m      6\u001b[0m \u001b[0mplt\u001b[0m\u001b[0;34m.\u001b[0m\u001b[0mshow\u001b[0m\u001b[0;34m(\u001b[0m\u001b[0;34m)\u001b[0m\u001b[0;34m\u001b[0m\u001b[0m\n",
      "\u001b[0;32m/home/natus/anaconda3/lib/python3.6/site-packages/matplotlib_venn/_venn3.py\u001b[0m in \u001b[0;36mvenn3\u001b[0;34m(subsets, set_labels, set_colors, alpha, normalize_to, ax, subset_label_formatter)\u001b[0m\n\u001b[1;32m    343\u001b[0m         \u001b[0msubsets\u001b[0m \u001b[0;34m=\u001b[0m \u001b[0;34m[\u001b[0m\u001b[0msubsets\u001b[0m\u001b[0;34m.\u001b[0m\u001b[0mget\u001b[0m\u001b[0;34m(\u001b[0m\u001b[0mt\u001b[0m\u001b[0;34m,\u001b[0m \u001b[0;36m0\u001b[0m\u001b[0;34m)\u001b[0m \u001b[0;32mfor\u001b[0m \u001b[0mt\u001b[0m \u001b[0;32min\u001b[0m \u001b[0;34m[\u001b[0m\u001b[0;34m'100'\u001b[0m\u001b[0;34m,\u001b[0m \u001b[0;34m'010'\u001b[0m\u001b[0;34m,\u001b[0m \u001b[0;34m'110'\u001b[0m\u001b[0;34m,\u001b[0m \u001b[0;34m'001'\u001b[0m\u001b[0;34m,\u001b[0m \u001b[0;34m'101'\u001b[0m\u001b[0;34m,\u001b[0m \u001b[0;34m'011'\u001b[0m\u001b[0;34m,\u001b[0m \u001b[0;34m'111'\u001b[0m\u001b[0;34m]\u001b[0m\u001b[0;34m]\u001b[0m\u001b[0;34m\u001b[0m\u001b[0m\n\u001b[1;32m    344\u001b[0m     \u001b[0;32melif\u001b[0m \u001b[0mlen\u001b[0m\u001b[0;34m(\u001b[0m\u001b[0msubsets\u001b[0m\u001b[0;34m)\u001b[0m \u001b[0;34m==\u001b[0m \u001b[0;36m3\u001b[0m\u001b[0;34m:\u001b[0m\u001b[0;34m\u001b[0m\u001b[0m\n\u001b[0;32m--> 345\u001b[0;31m         \u001b[0msubsets\u001b[0m \u001b[0;34m=\u001b[0m \u001b[0mcompute_venn3_subsets\u001b[0m\u001b[0;34m(\u001b[0m\u001b[0;34m*\u001b[0m\u001b[0msubsets\u001b[0m\u001b[0;34m)\u001b[0m\u001b[0;34m\u001b[0m\u001b[0m\n\u001b[0m\u001b[1;32m    346\u001b[0m \u001b[0;34m\u001b[0m\u001b[0m\n\u001b[1;32m    347\u001b[0m     \u001b[0;32mif\u001b[0m \u001b[0msubset_label_formatter\u001b[0m \u001b[0;32mis\u001b[0m \u001b[0;32mNone\u001b[0m\u001b[0;34m:\u001b[0m\u001b[0;34m\u001b[0m\u001b[0m\n",
      "\u001b[0;32m/home/natus/anaconda3/lib/python3.6/site-packages/matplotlib_venn/_venn3.py\u001b[0m in \u001b[0;36mcompute_venn3_subsets\u001b[0;34m(a, b, c)\u001b[0m\n\u001b[1;32m    257\u001b[0m         \u001b[0;32mraise\u001b[0m \u001b[0mValueError\u001b[0m\u001b[0;34m(\u001b[0m\u001b[0;34m\"All arguments must be of the same type\"\u001b[0m\u001b[0;34m)\u001b[0m\u001b[0;34m\u001b[0m\u001b[0m\n\u001b[1;32m    258\u001b[0m     \u001b[0mset_size\u001b[0m \u001b[0;34m=\u001b[0m \u001b[0mlen\u001b[0m \u001b[0;32mif\u001b[0m \u001b[0mtype\u001b[0m\u001b[0;34m(\u001b[0m\u001b[0ma\u001b[0m\u001b[0;34m)\u001b[0m \u001b[0;34m!=\u001b[0m \u001b[0mCounter\u001b[0m \u001b[0;32melse\u001b[0m \u001b[0;32mlambda\u001b[0m \u001b[0mx\u001b[0m\u001b[0;34m:\u001b[0m \u001b[0msum\u001b[0m\u001b[0;34m(\u001b[0m\u001b[0mx\u001b[0m\u001b[0;34m.\u001b[0m\u001b[0mvalues\u001b[0m\u001b[0;34m(\u001b[0m\u001b[0;34m)\u001b[0m\u001b[0;34m)\u001b[0m   \u001b[0;31m# We cannot use len to compute the cardinality of a Counter\u001b[0m\u001b[0;34m\u001b[0m\u001b[0m\n\u001b[0;32m--> 259\u001b[0;31m     return (set_size(a - (b | c)),  # TODO: This is certainly not the most efficient way to compute.\n\u001b[0m\u001b[1;32m    260\u001b[0m         \u001b[0mset_size\u001b[0m\u001b[0;34m(\u001b[0m\u001b[0mb\u001b[0m \u001b[0;34m-\u001b[0m \u001b[0;34m(\u001b[0m\u001b[0ma\u001b[0m \u001b[0;34m|\u001b[0m \u001b[0mc\u001b[0m\u001b[0;34m)\u001b[0m\u001b[0;34m)\u001b[0m\u001b[0;34m,\u001b[0m\u001b[0;34m\u001b[0m\u001b[0m\n\u001b[1;32m    261\u001b[0m         \u001b[0mset_size\u001b[0m\u001b[0;34m(\u001b[0m\u001b[0;34m(\u001b[0m\u001b[0ma\u001b[0m \u001b[0;34m&\u001b[0m \u001b[0mb\u001b[0m\u001b[0;34m)\u001b[0m \u001b[0;34m-\u001b[0m \u001b[0mc\u001b[0m\u001b[0;34m)\u001b[0m\u001b[0;34m,\u001b[0m\u001b[0;34m\u001b[0m\u001b[0m\n",
      "\u001b[0;32m/home/natus/anaconda3/lib/python3.6/site-packages/pandas/core/ops.py\u001b[0m in \u001b[0;36mf\u001b[0;34m(self, other, axis, level, fill_value)\u001b[0m\n\u001b[1;32m   1232\u001b[0m \u001b[0;34m\u001b[0m\u001b[0m\n\u001b[1;32m   1233\u001b[0m         \u001b[0;32mif\u001b[0m \u001b[0misinstance\u001b[0m\u001b[0;34m(\u001b[0m\u001b[0mother\u001b[0m\u001b[0;34m,\u001b[0m \u001b[0mpd\u001b[0m\u001b[0;34m.\u001b[0m\u001b[0mDataFrame\u001b[0m\u001b[0;34m)\u001b[0m\u001b[0;34m:\u001b[0m  \u001b[0;31m# Another DataFrame\u001b[0m\u001b[0;34m\u001b[0m\u001b[0m\n\u001b[0;32m-> 1234\u001b[0;31m             \u001b[0;32mreturn\u001b[0m \u001b[0mself\u001b[0m\u001b[0;34m.\u001b[0m\u001b[0m_combine_frame\u001b[0m\u001b[0;34m(\u001b[0m\u001b[0mother\u001b[0m\u001b[0;34m,\u001b[0m \u001b[0mna_op\u001b[0m\u001b[0;34m,\u001b[0m \u001b[0mfill_value\u001b[0m\u001b[0;34m,\u001b[0m \u001b[0mlevel\u001b[0m\u001b[0;34m)\u001b[0m\u001b[0;34m\u001b[0m\u001b[0m\n\u001b[0m\u001b[1;32m   1235\u001b[0m         \u001b[0;32melif\u001b[0m \u001b[0misinstance\u001b[0m\u001b[0;34m(\u001b[0m\u001b[0mother\u001b[0m\u001b[0;34m,\u001b[0m \u001b[0mABCSeries\u001b[0m\u001b[0;34m)\u001b[0m\u001b[0;34m:\u001b[0m\u001b[0;34m\u001b[0m\u001b[0m\n\u001b[1;32m   1236\u001b[0m             \u001b[0;32mreturn\u001b[0m \u001b[0mself\u001b[0m\u001b[0;34m.\u001b[0m\u001b[0m_combine_series\u001b[0m\u001b[0;34m(\u001b[0m\u001b[0mother\u001b[0m\u001b[0;34m,\u001b[0m \u001b[0mna_op\u001b[0m\u001b[0;34m,\u001b[0m \u001b[0mfill_value\u001b[0m\u001b[0;34m,\u001b[0m \u001b[0maxis\u001b[0m\u001b[0;34m,\u001b[0m \u001b[0mlevel\u001b[0m\u001b[0;34m)\u001b[0m\u001b[0;34m\u001b[0m\u001b[0m\n",
      "\u001b[0;32m/home/natus/anaconda3/lib/python3.6/site-packages/pandas/core/frame.py\u001b[0m in \u001b[0;36m_combine_frame\u001b[0;34m(self, other, func, fill_value, level)\u001b[0m\n\u001b[1;32m   3586\u001b[0m \u001b[0;34m\u001b[0m\u001b[0m\n\u001b[1;32m   3587\u001b[0m         \u001b[0;32melse\u001b[0m\u001b[0;34m:\u001b[0m\u001b[0;34m\u001b[0m\u001b[0m\n\u001b[0;32m-> 3588\u001b[0;31m             \u001b[0mresult\u001b[0m \u001b[0;34m=\u001b[0m \u001b[0m_arith_op\u001b[0m\u001b[0;34m(\u001b[0m\u001b[0mthis\u001b[0m\u001b[0;34m.\u001b[0m\u001b[0mvalues\u001b[0m\u001b[0;34m,\u001b[0m \u001b[0mother\u001b[0m\u001b[0;34m.\u001b[0m\u001b[0mvalues\u001b[0m\u001b[0;34m)\u001b[0m\u001b[0;34m\u001b[0m\u001b[0m\n\u001b[0m\u001b[1;32m   3589\u001b[0m \u001b[0;34m\u001b[0m\u001b[0m\n\u001b[1;32m   3590\u001b[0m         return self._constructor(result, index=new_index, columns=new_columns,\n",
      "\u001b[0;32m/home/natus/anaconda3/lib/python3.6/site-packages/pandas/core/frame.py\u001b[0m in \u001b[0;36m_arith_op\u001b[0;34m(left, right)\u001b[0m\n\u001b[1;32m   3555\u001b[0m                 \u001b[0mright\u001b[0m\u001b[0;34m[\u001b[0m\u001b[0mright_mask\u001b[0m \u001b[0;34m&\u001b[0m \u001b[0mmask\u001b[0m\u001b[0;34m]\u001b[0m \u001b[0;34m=\u001b[0m \u001b[0mfill_value\u001b[0m\u001b[0;34m\u001b[0m\u001b[0m\n\u001b[1;32m   3556\u001b[0m \u001b[0;34m\u001b[0m\u001b[0m\n\u001b[0;32m-> 3557\u001b[0;31m             \u001b[0;32mreturn\u001b[0m \u001b[0mfunc\u001b[0m\u001b[0;34m(\u001b[0m\u001b[0mleft\u001b[0m\u001b[0;34m,\u001b[0m \u001b[0mright\u001b[0m\u001b[0;34m)\u001b[0m\u001b[0;34m\u001b[0m\u001b[0m\n\u001b[0m\u001b[1;32m   3558\u001b[0m \u001b[0;34m\u001b[0m\u001b[0m\n\u001b[1;32m   3559\u001b[0m         \u001b[0;32mif\u001b[0m \u001b[0mthis\u001b[0m\u001b[0;34m.\u001b[0m\u001b[0m_is_mixed_type\u001b[0m \u001b[0;32mor\u001b[0m \u001b[0mother\u001b[0m\u001b[0;34m.\u001b[0m\u001b[0m_is_mixed_type\u001b[0m\u001b[0;34m:\u001b[0m\u001b[0;34m\u001b[0m\u001b[0m\n",
      "\u001b[0;32m/home/natus/anaconda3/lib/python3.6/site-packages/pandas/core/ops.py\u001b[0m in \u001b[0;36mna_op\u001b[0;34m(x, y)\u001b[0m\n\u001b[1;32m   1193\u001b[0m                 \u001b[0;32mif\u001b[0m \u001b[0mnp\u001b[0m\u001b[0;34m.\u001b[0m\u001b[0mprod\u001b[0m\u001b[0;34m(\u001b[0m\u001b[0mxrav\u001b[0m\u001b[0;34m.\u001b[0m\u001b[0mshape\u001b[0m\u001b[0;34m)\u001b[0m \u001b[0;32mand\u001b[0m \u001b[0mnp\u001b[0m\u001b[0;34m.\u001b[0m\u001b[0mprod\u001b[0m\u001b[0;34m(\u001b[0m\u001b[0myrav\u001b[0m\u001b[0;34m.\u001b[0m\u001b[0mshape\u001b[0m\u001b[0;34m)\u001b[0m\u001b[0;34m:\u001b[0m\u001b[0;34m\u001b[0m\u001b[0m\n\u001b[1;32m   1194\u001b[0m                     \u001b[0;32mwith\u001b[0m \u001b[0mnp\u001b[0m\u001b[0;34m.\u001b[0m\u001b[0merrstate\u001b[0m\u001b[0;34m(\u001b[0m\u001b[0mall\u001b[0m\u001b[0;34m=\u001b[0m\u001b[0;34m'ignore'\u001b[0m\u001b[0;34m)\u001b[0m\u001b[0;34m:\u001b[0m\u001b[0;34m\u001b[0m\u001b[0m\n\u001b[0;32m-> 1195\u001b[0;31m                         \u001b[0mresult\u001b[0m\u001b[0;34m[\u001b[0m\u001b[0mmask\u001b[0m\u001b[0;34m]\u001b[0m \u001b[0;34m=\u001b[0m \u001b[0mop\u001b[0m\u001b[0;34m(\u001b[0m\u001b[0mxrav\u001b[0m\u001b[0;34m,\u001b[0m \u001b[0myrav\u001b[0m\u001b[0;34m)\u001b[0m\u001b[0;34m\u001b[0m\u001b[0m\n\u001b[0m\u001b[1;32m   1196\u001b[0m             \u001b[0;32melif\u001b[0m \u001b[0mhasattr\u001b[0m\u001b[0;34m(\u001b[0m\u001b[0mx\u001b[0m\u001b[0;34m,\u001b[0m \u001b[0;34m'size'\u001b[0m\u001b[0;34m)\u001b[0m\u001b[0;34m:\u001b[0m\u001b[0;34m\u001b[0m\u001b[0m\n\u001b[1;32m   1197\u001b[0m                 \u001b[0mresult\u001b[0m \u001b[0;34m=\u001b[0m \u001b[0mnp\u001b[0m\u001b[0;34m.\u001b[0m\u001b[0mempty\u001b[0m\u001b[0;34m(\u001b[0m\u001b[0mx\u001b[0m\u001b[0;34m.\u001b[0m\u001b[0msize\u001b[0m\u001b[0;34m,\u001b[0m \u001b[0mdtype\u001b[0m\u001b[0;34m=\u001b[0m\u001b[0mx\u001b[0m\u001b[0;34m.\u001b[0m\u001b[0mdtype\u001b[0m\u001b[0;34m)\u001b[0m\u001b[0;34m\u001b[0m\u001b[0m\n",
      "\u001b[0;31mTypeError\u001b[0m: ufunc 'bitwise_or' not supported for the input types, and the inputs could not be safely coerced to any supported types according to the casting rule ''safe''"
     ]
    }
   ],
   "source": [
    "plt.figure(figsize=[16,16])\n",
    "plt.rcParams.update({'font.size': 14})\n",
    "venn3([accp, sepsis_simple, sepsis_shock], ('ACCP', 'sepsis_simple', 'Sepsis Shock'),      \n",
    "subset_label_formatter=lambda x: '{:,}\\n{:2.1f}%'.format(x, x*100.0/60000))\n",
    "plt.savefig('sepsis3-venn.png')\n",
    "plt.show()"
   ]
  },
  {
   "cell_type": "code",
   "execution_count": 81,
   "metadata": {
    "collapsed": true
   },
   "outputs": [],
   "source": [
    "#shock\n",
    "\n",
    "accp2 = \\\n",
    "f'''\n",
    "WITH crit1 AS (SELECT hadm_id FROM ch0_infection_pop), \n",
    "crit2 AS (SELECT distinct hadm_id FROM ch1 ), \n",
    "crit3 AS (SELECT DISTINCT hadm_id FROM (SELECT * FROM crit1 INTERSECT SELECT * FROM crit2 ) as tmp3) \n",
    "SELECT distinct crit3.hadm_id FROM crit3 JOIN ch2 ON (crit3.hadm_id = ch2.hadm_id )\n",
    "'''\n",
    "\n",
    "\n",
    "\n",
    "set3 = set(sepsis3['hadm_id'])"
   ]
  }
 ],
 "metadata": {
  "kernelspec": {
   "display_name": "Python 3",
   "language": "python",
   "name": "python3"
  },
  "language_info": {
   "codemirror_mode": {
    "name": "ipython",
    "version": 3
   },
   "file_extension": ".py",
   "mimetype": "text/x-python",
   "name": "python",
   "nbconvert_exporter": "python",
   "pygments_lexer": "ipython3",
   "version": "3.6.1"
  }
 },
 "nbformat": 4,
 "nbformat_minor": 2
}
